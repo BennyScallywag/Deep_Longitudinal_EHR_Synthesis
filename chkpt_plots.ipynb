{
 "cells": [
  {
   "cell_type": "code",
   "execution_count": 5,
   "metadata": {},
   "outputs": [],
   "source": [
    "from Train_and_Test import test\n",
    "import numpy as np\n",
    "import os"
   ]
  },
  {
   "cell_type": "code",
   "execution_count": 7,
   "metadata": {},
   "outputs": [],
   "source": [
    "def real_data_loading (data_name, seq_len):\n",
    "  \"\"\"Load and preprocess real-world datasets.\n",
    "  \n",
    "  Args:\n",
    "    - data_name: stock or energy\n",
    "    - seq_len: sequence length\n",
    "    \n",
    "  Returns:\n",
    "    - data: preprocessed data.\n",
    "  \"\"\"  \n",
    "  assert data_name in ['stocks','energy']\n",
    "  directory = os.path.dirname(__file__)\n",
    "  stockpath = os.path.join(directory, 'data', 'stock_data.csv')\n",
    "  energypath = os.path.join(directory, 'data', 'energy_data.csv')\n",
    "  \n",
    "  if data_name == 'stocks':\n",
    "    ori_data = np.loadtxt(stockpath, delimiter = \",\",skiprows = 1)\n",
    "  elif data_name == 'energy':\n",
    "    ori_data = np.loadtxt(energypath, delimiter = \",\",skiprows = 1)\n",
    "        \n",
    "  # Flip the data to make chronological data\n",
    "  ori_data = ori_data[::-1]\n",
    "  # Normalize the data\n",
    "  #ori_data = MinMaxScaler(ori_data)\n",
    "    \n",
    "  # Preprocess the dataset\n",
    "  temp_data = []    \n",
    "  # Cut data by sequence length\n",
    "  for i in range(0, len(ori_data) - seq_len):\n",
    "    _x = ori_data[i:i + seq_len]\n",
    "    temp_data.append(_x)\n",
    "        \n",
    "  # Mix the datasets (to make it similar to i.i.d)\n",
    "  idx = np.random.permutation(len(temp_data))    \n",
    "  data = []\n",
    "  for i in range(len(temp_data)):\n",
    "    data.append(temp_data[idx[i]])\n",
    "    \n",
    "  return data"
   ]
  },
  {
   "cell_type": "code",
   "execution_count": 8,
   "metadata": {},
   "outputs": [
    {
     "ename": "NameError",
     "evalue": "name '__file__' is not defined",
     "output_type": "error",
     "traceback": [
      "\u001b[1;31m---------------------------------------------------------------------------\u001b[0m",
      "\u001b[1;31mNameError\u001b[0m                                 Traceback (most recent call last)",
      "Cell \u001b[1;32mIn[8], line 1\u001b[0m\n\u001b[1;32m----> 1\u001b[0m stockdata \u001b[38;5;241m=\u001b[39m \u001b[43mreal_data_loading\u001b[49m\u001b[43m(\u001b[49m\u001b[38;5;124;43m'\u001b[39;49m\u001b[38;5;124;43mstocks\u001b[39;49m\u001b[38;5;124;43m'\u001b[39;49m\u001b[43m,\u001b[49m\u001b[43m \u001b[49m\u001b[38;5;241;43m24\u001b[39;49m\u001b[43m)\u001b[49m\n\u001b[0;32m      2\u001b[0m stockdata\n",
      "Cell \u001b[1;32mIn[7], line 12\u001b[0m, in \u001b[0;36mreal_data_loading\u001b[1;34m(data_name, seq_len)\u001b[0m\n\u001b[0;32m      2\u001b[0m \u001b[38;5;250m\u001b[39m\u001b[38;5;124;03m\"\"\"Load and preprocess real-world datasets.\u001b[39;00m\n\u001b[0;32m      3\u001b[0m \u001b[38;5;124;03m\u001b[39;00m\n\u001b[0;32m      4\u001b[0m \u001b[38;5;124;03mArgs:\u001b[39;00m\n\u001b[1;32m   (...)\u001b[0m\n\u001b[0;32m      9\u001b[0m \u001b[38;5;124;03m  - data: preprocessed data.\u001b[39;00m\n\u001b[0;32m     10\u001b[0m \u001b[38;5;124;03m\"\"\"\u001b[39;00m  \n\u001b[0;32m     11\u001b[0m \u001b[38;5;28;01massert\u001b[39;00m data_name \u001b[38;5;129;01min\u001b[39;00m [\u001b[38;5;124m'\u001b[39m\u001b[38;5;124mstocks\u001b[39m\u001b[38;5;124m'\u001b[39m,\u001b[38;5;124m'\u001b[39m\u001b[38;5;124menergy\u001b[39m\u001b[38;5;124m'\u001b[39m]\n\u001b[1;32m---> 12\u001b[0m directory \u001b[38;5;241m=\u001b[39m os\u001b[38;5;241m.\u001b[39mpath\u001b[38;5;241m.\u001b[39mdirname(\u001b[38;5;18;43m__file__\u001b[39;49m)\n\u001b[0;32m     13\u001b[0m stockpath \u001b[38;5;241m=\u001b[39m os\u001b[38;5;241m.\u001b[39mpath\u001b[38;5;241m.\u001b[39mjoin(directory, \u001b[38;5;124m'\u001b[39m\u001b[38;5;124mdata\u001b[39m\u001b[38;5;124m'\u001b[39m, \u001b[38;5;124m'\u001b[39m\u001b[38;5;124mstock_data.csv\u001b[39m\u001b[38;5;124m'\u001b[39m)\n\u001b[0;32m     14\u001b[0m energypath \u001b[38;5;241m=\u001b[39m os\u001b[38;5;241m.\u001b[39mpath\u001b[38;5;241m.\u001b[39mjoin(directory, \u001b[38;5;124m'\u001b[39m\u001b[38;5;124mdata\u001b[39m\u001b[38;5;124m'\u001b[39m, \u001b[38;5;124m'\u001b[39m\u001b[38;5;124menergy_data.csv\u001b[39m\u001b[38;5;124m'\u001b[39m)\n",
      "\u001b[1;31mNameError\u001b[0m: name '__file__' is not defined"
     ]
    }
   ],
   "source": [
    "stockdata = real_data_loading('stocks', 24)\n",
    "stockdata"
   ]
  }
 ],
 "metadata": {
  "kernelspec": {
   "display_name": "Python 3",
   "language": "python",
   "name": "python3"
  },
  "language_info": {
   "codemirror_mode": {
    "name": "ipython",
    "version": 3
   },
   "file_extension": ".py",
   "mimetype": "text/x-python",
   "name": "python",
   "nbconvert_exporter": "python",
   "pygments_lexer": "ipython3",
   "version": "3.11.1"
  }
 },
 "nbformat": 4,
 "nbformat_minor": 2
}
